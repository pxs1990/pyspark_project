{
  "nbformat": 4,
  "nbformat_minor": 0,
  "metadata": {
    "colab": {
      "provenance": [],
      "authorship_tag": "ABX9TyMMtn80+1p7I6AFSLFRJmSH",
      "include_colab_link": true
    },
    "kernelspec": {
      "name": "python3",
      "display_name": "Python 3"
    },
    "language_info": {
      "name": "python"
    }
  },
  "cells": [
    {
      "cell_type": "markdown",
      "metadata": {
        "id": "view-in-github",
        "colab_type": "text"
      },
      "source": [
        "<a href=\"https://colab.research.google.com/github/pxs1990/pyspark_project/blob/main/pyspark_data_preprocessing.ipynb\" target=\"_parent\"><img src=\"https://colab.research.google.com/assets/colab-badge.svg\" alt=\"Open In Colab\"/></a>"
      ]
    },
    {
      "cell_type": "code",
      "source": [
        "!pip install pyspark"
      ],
      "metadata": {
        "colab": {
          "base_uri": "https://localhost:8080/"
        },
        "id": "EdRpKaiXZyb2",
        "outputId": "d890b840-0ef8-4204-87df-56bc6d20aa1d"
      },
      "execution_count": null,
      "outputs": [
        {
          "output_type": "stream",
          "name": "stdout",
          "text": [
            "Collecting pyspark\n",
            "  Downloading pyspark-3.5.1.tar.gz (317.0 MB)\n",
            "\u001b[2K     \u001b[90m━━━━━━━━━━━━━━━━━━━━━━━━━━━━━━━━━━━━━━━━\u001b[0m \u001b[32m317.0/317.0 MB\u001b[0m \u001b[31m2.9 MB/s\u001b[0m eta \u001b[36m0:00:00\u001b[0m\n",
            "\u001b[?25h  Preparing metadata (setup.py) ... \u001b[?25l\u001b[?25hdone\n",
            "Requirement already satisfied: py4j==0.10.9.7 in /usr/local/lib/python3.10/dist-packages (from pyspark) (0.10.9.7)\n",
            "Building wheels for collected packages: pyspark\n",
            "  Building wheel for pyspark (setup.py) ... \u001b[?25l\u001b[?25hdone\n",
            "  Created wheel for pyspark: filename=pyspark-3.5.1-py2.py3-none-any.whl size=317488491 sha256=e3bd3d5b724531ba0305b6b2d31a13e02adee39b0b0c2792f75888797c138207\n",
            "  Stored in directory: /root/.cache/pip/wheels/80/1d/60/2c256ed38dddce2fdd93be545214a63e02fbd8d74fb0b7f3a6\n",
            "Successfully built pyspark\n",
            "Installing collected packages: pyspark\n",
            "Successfully installed pyspark-3.5.1\n"
          ]
        }
      ]
    },
    {
      "cell_type": "code",
      "source": [
        "import pyspark"
      ],
      "metadata": {
        "id": "YXVRtNSMZ9pX"
      },
      "execution_count": null,
      "outputs": []
    },
    {
      "cell_type": "code",
      "execution_count": null,
      "metadata": {
        "id": "VCYlcPATZkLJ"
      },
      "outputs": [],
      "source": [
        "from pyspark.sql import SparkSession\n",
        "sparkSession=SparkSession.builder.appName('Practise').getOrCreate()"
      ]
    },
    {
      "cell_type": "code",
      "source": [
        "df_pyspark=sparkSession.read.csv('/content/test2.csv',header=True,inferSchema=True)#inferSchema=True-->data types of each column based on csv file is inferred.\n",
        "df_pyspark.show()"
      ],
      "metadata": {
        "colab": {
          "base_uri": "https://localhost:8080/"
        },
        "id": "ua8wOpk4Z2Tl",
        "outputId": "2a459c73-8d0a-4785-a92a-9a0a74d8ad1b"
      },
      "execution_count": 51,
      "outputs": [
        {
          "output_type": "stream",
          "name": "stdout",
          "text": [
            "+-----+----+------+-----------+\n",
            "| Name| Age|Salary|ExtraColumn|\n",
            "+-----+----+------+-----------+\n",
            "|Peter|  58| 13000|          9|\n",
            "| Jack|  52| 10000|          3|\n",
            "| John|  37|  7000|          5|\n",
            "|  Bob|  54|  5000|          8|\n",
            "| NULL|NULL|  NULL|       NULL|\n",
            "|Katie|  52|  7000|          2|\n",
            "|Katie|  30|  5000|          3|\n",
            "| Rose|  39| 14000|          2|\n",
            "| Jack|  40|  3000|          4|\n",
            "| Rose|  56|  1000|          1|\n",
            "| Emma|  44|  3000|          8|\n",
            "| NULL|NULL|  NULL|       NULL|\n",
            "|Frank|  24| 15000|          4|\n",
            "|David|  27| 12000|          2|\n",
            "| Noah|  53|  2000|          3|\n",
            "| Rose|  22| 14000|          3|\n",
            "|  Sam|  39|  1000|         10|\n",
            "| Rose|  28|  3000|          8|\n",
            "| Noah|  54|  6000|          5|\n",
            "|Peter|  59| 15000|          5|\n",
            "+-----+----+------+-----------+\n",
            "\n"
          ]
        }
      ]
    },
    {
      "cell_type": "code",
      "source": [
        "df_pyspark.printSchema()"
      ],
      "metadata": {
        "colab": {
          "base_uri": "https://localhost:8080/"
        },
        "id": "kfGm9vHxZ2fx",
        "outputId": "fe62b3cc-ec58-48ef-c43b-bccd87908ea4"
      },
      "execution_count": 35,
      "outputs": [
        {
          "output_type": "stream",
          "name": "stdout",
          "text": [
            "root\n",
            " |-- Name: string (nullable = true)\n",
            " |-- Age: integer (nullable = true)\n",
            " |-- Salary: integer (nullable = true)\n",
            " |-- ExtraColumn: integer (nullable = true)\n",
            "\n"
          ]
        }
      ]
    },
    {
      "cell_type": "code",
      "source": [
        "#drop the columns\n",
        "df=df_pyspark.drop('Name')\n",
        "df.show()"
      ],
      "metadata": {
        "colab": {
          "base_uri": "https://localhost:8080/"
        },
        "id": "yeNfS95jcERt",
        "outputId": "132b5dab-1032-4fa9-e6e4-6a47a15674f3"
      },
      "execution_count": 52,
      "outputs": [
        {
          "output_type": "stream",
          "name": "stdout",
          "text": [
            "+----+------+-----------+\n",
            "| Age|Salary|ExtraColumn|\n",
            "+----+------+-----------+\n",
            "|  58| 13000|          9|\n",
            "|  52| 10000|          3|\n",
            "|  37|  7000|          5|\n",
            "|  54|  5000|          8|\n",
            "|NULL|  NULL|       NULL|\n",
            "|  52|  7000|          2|\n",
            "|  30|  5000|          3|\n",
            "|  39| 14000|          2|\n",
            "|  40|  3000|          4|\n",
            "|  56|  1000|          1|\n",
            "|  44|  3000|          8|\n",
            "|NULL|  NULL|       NULL|\n",
            "|  24| 15000|          4|\n",
            "|  27| 12000|          2|\n",
            "|  53|  2000|          3|\n",
            "|  22| 14000|          3|\n",
            "|  39|  1000|         10|\n",
            "|  28|  3000|          8|\n",
            "|  54|  6000|          5|\n",
            "|  59| 15000|          5|\n",
            "+----+------+-----------+\n",
            "\n"
          ]
        }
      ]
    },
    {
      "cell_type": "code",
      "source": [
        "from pyspark.sql.functions import mean\n",
        "\n",
        "# Impute missing values in the 'Age', 'Salary', and 'ExtraColumn' columns with their respective mean values\n",
        "mean_values = df.select([mean('Age').alias('mean_age'),\n",
        "                                 mean('Salary').alias('mean_salary'),\n",
        "                                 mean('ExtraColumn').alias('mean_extra')]).collect()\n",
        "\n",
        "# Extract mean values\n",
        "mean_age = mean_values[0]['mean_age']\n",
        "mean_salary = mean_values[0]['mean_salary']\n",
        "mean_extra = mean_values[0]['mean_extra']\n",
        "\n",
        "# Fill missing values with mean values\n",
        "imputed_df = df.fillna({'Age': mean_age, 'Salary': mean_salary, 'ExtraColumn': mean_extra})\n",
        "\n",
        "# Show the DataFrame with imputed values\n",
        "imputed_df.show()\n"
      ],
      "metadata": {
        "id": "BPO-TN2ggALm",
        "colab": {
          "base_uri": "https://localhost:8080/"
        },
        "outputId": "2a0db174-2d52-4282-d1e8-a2a56b7ff277"
      },
      "execution_count": 41,
      "outputs": [
        {
          "output_type": "stream",
          "name": "stdout",
          "text": [
            "+---+------+-----------+\n",
            "|Age|Salary|ExtraColumn|\n",
            "+---+------+-----------+\n",
            "| 58| 13000|          9|\n",
            "| 52| 10000|          3|\n",
            "| 37|  7000|          5|\n",
            "| 54|  5000|          8|\n",
            "| 42|  7555|          4|\n",
            "| 52|  7000|          2|\n",
            "| 30|  5000|          3|\n",
            "| 39| 14000|          2|\n",
            "| 40|  3000|          4|\n",
            "| 56|  1000|          1|\n",
            "| 44|  3000|          8|\n",
            "| 42|  7555|          4|\n",
            "| 24| 15000|          4|\n",
            "| 27| 12000|          2|\n",
            "| 53|  2000|          3|\n",
            "| 22| 14000|          3|\n",
            "| 39|  1000|         10|\n",
            "| 28|  3000|          8|\n",
            "| 54|  6000|          5|\n",
            "| 59| 15000|          5|\n",
            "+---+------+-----------+\n",
            "\n"
          ]
        }
      ]
    },
    {
      "cell_type": "code",
      "source": [
        "mean_values"
      ],
      "metadata": {
        "id": "dnJuJgvrexcK",
        "colab": {
          "base_uri": "https://localhost:8080/"
        },
        "outputId": "ddc26c17-9d50-4c5e-c30a-50badece247c"
      },
      "execution_count": 43,
      "outputs": [
        {
          "output_type": "execute_result",
          "data": {
            "text/plain": [
              "[Row(mean_age=42.666666666666664, mean_salary=7555.555555555556, mean_extra=4.722222222222222)]"
            ]
          },
          "metadata": {},
          "execution_count": 43
        }
      ]
    },
    {
      "cell_type": "code",
      "source": [
        "mean_values[0]"
      ],
      "metadata": {
        "colab": {
          "base_uri": "https://localhost:8080/"
        },
        "id": "NccH5d2yxddh",
        "outputId": "12a196d3-d83f-4c9c-f098-46bfef0a7f88"
      },
      "execution_count": 44,
      "outputs": [
        {
          "output_type": "execute_result",
          "data": {
            "text/plain": [
              "Row(mean_age=42.666666666666664, mean_salary=7555.555555555556, mean_extra=4.722222222222222)"
            ]
          },
          "metadata": {},
          "execution_count": 44
        }
      ]
    },
    {
      "cell_type": "code",
      "source": [
        "from pyspark.ml.feature import Imputer\n",
        "\n",
        "imputer = Imputer(\n",
        "    inputCols=['Age', 'ExtraColumn', 'Salary'],\n",
        "    outputCols=[\"{}_imputed\".format(c) for c in ['Age', 'Experience', 'Salary']]\n",
        "    ).setStrategy(\"median\")\n",
        "# Add imputation cols to df\n",
        "imputer.fit(df).transform(df).show()"
      ],
      "metadata": {
        "id": "yhmny-oKyGbh"
      },
      "execution_count": 55,
      "outputs": []
    },
    {
      "cell_type": "code",
      "source": [
        "# Add imputation cols to df\n",
        "imputer.fit(df).transform(df).show()"
      ],
      "metadata": {
        "colab": {
          "base_uri": "https://localhost:8080/"
        },
        "id": "M-y4_Z8ey8wk",
        "outputId": "49f5b4f5-3505-4406-b2c5-457d454bd6b0"
      },
      "execution_count": 56,
      "outputs": [
        {
          "output_type": "stream",
          "name": "stdout",
          "text": [
            "+----+------+-----------+-----------+------------------+--------------+\n",
            "| Age|Salary|ExtraColumn|Age_imputed|Experience_imputed|Salary_imputed|\n",
            "+----+------+-----------+-----------+------------------+--------------+\n",
            "|  58| 13000|          9|         58|                 9|         13000|\n",
            "|  52| 10000|          3|         52|                 3|         10000|\n",
            "|  37|  7000|          5|         37|                 5|          7000|\n",
            "|  54|  5000|          8|         54|                 8|          5000|\n",
            "|NULL|  NULL|       NULL|         40|                 4|          6000|\n",
            "|  52|  7000|          2|         52|                 2|          7000|\n",
            "|  30|  5000|          3|         30|                 3|          5000|\n",
            "|  39| 14000|          2|         39|                 2|         14000|\n",
            "|  40|  3000|          4|         40|                 4|          3000|\n",
            "|  56|  1000|          1|         56|                 1|          1000|\n",
            "|  44|  3000|          8|         44|                 8|          3000|\n",
            "|NULL|  NULL|       NULL|         40|                 4|          6000|\n",
            "|  24| 15000|          4|         24|                 4|         15000|\n",
            "|  27| 12000|          2|         27|                 2|         12000|\n",
            "|  53|  2000|          3|         53|                 3|          2000|\n",
            "|  22| 14000|          3|         22|                 3|         14000|\n",
            "|  39|  1000|         10|         39|                10|          1000|\n",
            "|  28|  3000|          8|         28|                 8|          3000|\n",
            "|  54|  6000|          5|         54|                 5|          6000|\n",
            "|  59| 15000|          5|         59|                 5|         15000|\n",
            "+----+------+-----------+-----------+------------------+--------------+\n",
            "\n"
          ]
        }
      ]
    },
    {
      "cell_type": "code",
      "source": [
        "#If you want to overwride cols with nan\n",
        "from pyspark.ml.feature import Imputer\n",
        "\n",
        "# Define the input and output column names for the imputer\n",
        "input_cols = ['Age', 'ExtraColumn', 'Salary']\n",
        "output_cols = ['Age', 'ExtraColumn', 'Salary']  # Same as input columns\n",
        "\n",
        "# Create the Imputer\n",
        "imputer = Imputer(\n",
        "    inputCols=input_cols,\n",
        "    outputCols=output_cols\n",
        ").setStrategy(\"median\")\n",
        "\n",
        "# Fit the imputer and transform the DataFrame\n",
        "imputed_df = imputer.fit(df).transform(df)\n",
        "\n",
        "# Show the DataFrame with imputed values\n",
        "imputed_df.show()\n"
      ],
      "metadata": {
        "colab": {
          "base_uri": "https://localhost:8080/"
        },
        "id": "c5q5sVXE0fae",
        "outputId": "107d2b94-7dec-4a9e-8ce6-5b2c171b2471"
      },
      "execution_count": 57,
      "outputs": [
        {
          "output_type": "stream",
          "name": "stdout",
          "text": [
            "+---+------+-----------+\n",
            "|Age|Salary|ExtraColumn|\n",
            "+---+------+-----------+\n",
            "| 58| 13000|          9|\n",
            "| 52| 10000|          3|\n",
            "| 37|  7000|          5|\n",
            "| 54|  5000|          8|\n",
            "| 40|  6000|          4|\n",
            "| 52|  7000|          2|\n",
            "| 30|  5000|          3|\n",
            "| 39| 14000|          2|\n",
            "| 40|  3000|          4|\n",
            "| 56|  1000|          1|\n",
            "| 44|  3000|          8|\n",
            "| 40|  6000|          4|\n",
            "| 24| 15000|          4|\n",
            "| 27| 12000|          2|\n",
            "| 53|  2000|          3|\n",
            "| 22| 14000|          3|\n",
            "| 39|  1000|         10|\n",
            "| 28|  3000|          8|\n",
            "| 54|  6000|          5|\n",
            "| 59| 15000|          5|\n",
            "+---+------+-----------+\n",
            "\n"
          ]
        }
      ]
    },
    {
      "cell_type": "markdown",
      "source": [
        "# **Filtering:**"
      ],
      "metadata": {
        "id": "lEhPbCwl02zW"
      }
    },
    {
      "cell_type": "code",
      "source": [
        "### Salary of the people less than or equal to 20000\n",
        "imputed_df.filter(\"Salary<=10000\").show()"
      ],
      "metadata": {
        "colab": {
          "base_uri": "https://localhost:8080/"
        },
        "id": "oY1C2rN108GC",
        "outputId": "451fd087-3df2-408f-b8c2-415408314f1f"
      },
      "execution_count": 59,
      "outputs": [
        {
          "output_type": "stream",
          "name": "stdout",
          "text": [
            "+---+------+-----------+\n",
            "|Age|Salary|ExtraColumn|\n",
            "+---+------+-----------+\n",
            "| 52| 10000|          3|\n",
            "| 37|  7000|          5|\n",
            "| 54|  5000|          8|\n",
            "| 40|  6000|          4|\n",
            "| 52|  7000|          2|\n",
            "| 30|  5000|          3|\n",
            "| 40|  3000|          4|\n",
            "| 56|  1000|          1|\n",
            "| 44|  3000|          8|\n",
            "| 40|  6000|          4|\n",
            "| 53|  2000|          3|\n",
            "| 39|  1000|         10|\n",
            "| 28|  3000|          8|\n",
            "| 54|  6000|          5|\n",
            "+---+------+-----------+\n",
            "\n"
          ]
        }
      ]
    },
    {
      "cell_type": "code",
      "source": [
        "imputed_df.filter(\"Salary<=10000\").select(['Salary','Age']).show()"
      ],
      "metadata": {
        "colab": {
          "base_uri": "https://localhost:8080/"
        },
        "id": "6Na_jwY9zFPm",
        "outputId": "8c54be3c-cd7f-42db-a6a0-546ce548f461"
      },
      "execution_count": 62,
      "outputs": [
        {
          "output_type": "stream",
          "name": "stdout",
          "text": [
            "+------+---+\n",
            "|Salary|Age|\n",
            "+------+---+\n",
            "| 10000| 52|\n",
            "|  7000| 37|\n",
            "|  5000| 54|\n",
            "|  6000| 40|\n",
            "|  7000| 52|\n",
            "|  5000| 30|\n",
            "|  3000| 40|\n",
            "|  1000| 56|\n",
            "|  3000| 44|\n",
            "|  6000| 40|\n",
            "|  2000| 53|\n",
            "|  1000| 39|\n",
            "|  3000| 28|\n",
            "|  6000| 54|\n",
            "+------+---+\n",
            "\n"
          ]
        }
      ]
    },
    {
      "cell_type": "code",
      "source": [
        "\n",
        "imputed_df.filter(imputed_df['Salary']<=10000).show()"
      ],
      "metadata": {
        "colab": {
          "base_uri": "https://localhost:8080/"
        },
        "id": "1ignplb42ciQ",
        "outputId": "b24f91de-4b3b-46d4-88c0-3e1ce426be4f"
      },
      "execution_count": 66,
      "outputs": [
        {
          "output_type": "stream",
          "name": "stdout",
          "text": [
            "+---+------+-----------+\n",
            "|Age|Salary|ExtraColumn|\n",
            "+---+------+-----------+\n",
            "| 52| 10000|          3|\n",
            "| 37|  7000|          5|\n",
            "| 54|  5000|          8|\n",
            "| 40|  6000|          4|\n",
            "| 52|  7000|          2|\n",
            "| 30|  5000|          3|\n",
            "| 40|  3000|          4|\n",
            "| 56|  1000|          1|\n",
            "| 44|  3000|          8|\n",
            "| 40|  6000|          4|\n",
            "| 53|  2000|          3|\n",
            "| 39|  1000|         10|\n",
            "| 28|  3000|          8|\n",
            "| 54|  6000|          5|\n",
            "+---+------+-----------+\n",
            "\n"
          ]
        }
      ]
    },
    {
      "cell_type": "code",
      "source": [
        "imputed_df.filter((imputed_df['Salary']<=10000) |\n",
        "                  (imputed_df['Salary']>=5000)).show()"
      ],
      "metadata": {
        "colab": {
          "base_uri": "https://localhost:8080/"
        },
        "id": "xI-0amcc2zPM",
        "outputId": "9eb35ffc-eccd-4df0-a4d1-d2df97f0061e"
      },
      "execution_count": 67,
      "outputs": [
        {
          "output_type": "stream",
          "name": "stdout",
          "text": [
            "+---+------+-----------+\n",
            "|Age|Salary|ExtraColumn|\n",
            "+---+------+-----------+\n",
            "| 58| 13000|          9|\n",
            "| 52| 10000|          3|\n",
            "| 37|  7000|          5|\n",
            "| 54|  5000|          8|\n",
            "| 40|  6000|          4|\n",
            "| 52|  7000|          2|\n",
            "| 30|  5000|          3|\n",
            "| 39| 14000|          2|\n",
            "| 40|  3000|          4|\n",
            "| 56|  1000|          1|\n",
            "| 44|  3000|          8|\n",
            "| 40|  6000|          4|\n",
            "| 24| 15000|          4|\n",
            "| 27| 12000|          2|\n",
            "| 53|  2000|          3|\n",
            "| 22| 14000|          3|\n",
            "| 39|  1000|         10|\n",
            "| 28|  3000|          8|\n",
            "| 54|  6000|          5|\n",
            "| 59| 15000|          5|\n",
            "+---+------+-----------+\n",
            "\n"
          ]
        }
      ]
    },
    {
      "cell_type": "code",
      "source": [
        "\n",
        "imputed_df.filter(~(imputed_df['Salary']<=10000)).show()"
      ],
      "metadata": {
        "colab": {
          "base_uri": "https://localhost:8080/"
        },
        "id": "pnVzHqqN3_TV",
        "outputId": "12c90d7b-7bcd-47ec-ac65-90de96fe8de3"
      },
      "execution_count": 69,
      "outputs": [
        {
          "output_type": "stream",
          "name": "stdout",
          "text": [
            "+---+------+-----------+\n",
            "|Age|Salary|ExtraColumn|\n",
            "+---+------+-----------+\n",
            "| 58| 13000|          9|\n",
            "| 39| 14000|          2|\n",
            "| 24| 15000|          4|\n",
            "| 27| 12000|          2|\n",
            "| 22| 14000|          3|\n",
            "| 59| 15000|          5|\n",
            "+---+------+-----------+\n",
            "\n"
          ]
        }
      ]
    },
    {
      "cell_type": "code",
      "source": [
        "### Grouped to find the maximum salary\n",
        "imputed_df.groupBy('Age').sum('Salary').show()"
      ],
      "metadata": {
        "colab": {
          "base_uri": "https://localhost:8080/"
        },
        "id": "2Da1o2BU4XLg",
        "outputId": "690140af-1a04-41d4-e8e7-3de8c6d53ccc"
      },
      "execution_count": 72,
      "outputs": [
        {
          "output_type": "stream",
          "name": "stdout",
          "text": [
            "+---+-----------+\n",
            "|Age|sum(Salary)|\n",
            "+---+-----------+\n",
            "| 53|       2000|\n",
            "| 28|       3000|\n",
            "| 27|      12000|\n",
            "| 44|       3000|\n",
            "| 22|      14000|\n",
            "| 52|      17000|\n",
            "| 40|      15000|\n",
            "| 54|      11000|\n",
            "| 37|       7000|\n",
            "| 59|      15000|\n",
            "| 39|      15000|\n",
            "| 24|      15000|\n",
            "| 56|       1000|\n",
            "| 58|      13000|\n",
            "| 30|       5000|\n",
            "+---+-----------+\n",
            "\n"
          ]
        }
      ]
    },
    {
      "cell_type": "code",
      "source": [
        "\n",
        "imputed_df.groupBy('Age').count().show()"
      ],
      "metadata": {
        "colab": {
          "base_uri": "https://localhost:8080/"
        },
        "id": "A54PaBYT4tS5",
        "outputId": "bf756feb-4907-4658-bca4-5830ba1f58d6"
      },
      "execution_count": 73,
      "outputs": [
        {
          "output_type": "stream",
          "name": "stdout",
          "text": [
            "+---+-----+\n",
            "|Age|count|\n",
            "+---+-----+\n",
            "| 53|    1|\n",
            "| 28|    1|\n",
            "| 27|    1|\n",
            "| 44|    1|\n",
            "| 22|    1|\n",
            "| 52|    2|\n",
            "| 40|    3|\n",
            "| 54|    2|\n",
            "| 37|    1|\n",
            "| 59|    1|\n",
            "| 39|    2|\n",
            "| 24|    1|\n",
            "| 56|    1|\n",
            "| 58|    1|\n",
            "| 30|    1|\n",
            "+---+-----+\n",
            "\n"
          ]
        }
      ]
    },
    {
      "cell_type": "code",
      "source": [
        "# Aggregate the 'Salary' column to compute the sum\n",
        "sum_value_df = imputed_df.agg({'Salary': 'sum'})\n",
        "\n",
        "# Collect the aggregated sum value\n",
        "sum_value = sum_value_df.collect()[0]['sum(Salary)']\n",
        "\n",
        "# Print the sum of the 'Salary' column\n",
        "print(\"Sum of Salary column:\", sum_value)\n"
      ],
      "metadata": {
        "id": "XIHUEtUy5_eX"
      },
      "execution_count": null,
      "outputs": []
    },
    {
      "cell_type": "code",
      "source": [
        "agdf=imputed_df.agg({'Salary':'sum','Age':'mean'})\n",
        "agdf.show()"
      ],
      "metadata": {
        "colab": {
          "base_uri": "https://localhost:8080/"
        },
        "id": "1vxYffE85y-G",
        "outputId": "a22ab3b7-db09-4b80-aed3-54ef1096c231"
      },
      "execution_count": 92,
      "outputs": [
        {
          "output_type": "stream",
          "name": "stdout",
          "text": [
            "+-----------+--------+\n",
            "|sum(Salary)|avg(Age)|\n",
            "+-----------+--------+\n",
            "|     148000|    42.4|\n",
            "+-----------+--------+\n",
            "\n"
          ]
        }
      ]
    },
    {
      "cell_type": "code",
      "source": [
        "agdf.collect()"
      ],
      "metadata": {
        "colab": {
          "base_uri": "https://localhost:8080/"
        },
        "id": "lnFNn20g7of5",
        "outputId": "d1ca61bc-f626-44f1-d508-bf822f675dbc"
      },
      "execution_count": 93,
      "outputs": [
        {
          "output_type": "execute_result",
          "data": {
            "text/plain": [
              "[Row(sum(Salary)=148000, avg(Age)=42.4)]"
            ]
          },
          "metadata": {},
          "execution_count": 93
        }
      ]
    },
    {
      "cell_type": "code",
      "source": [
        "type(agdf.collect())"
      ],
      "metadata": {
        "colab": {
          "base_uri": "https://localhost:8080/"
        },
        "id": "N9hcK-K97bp_",
        "outputId": "91d5f299-5b69-4f64-c095-d12c7545ef11"
      },
      "execution_count": 94,
      "outputs": [
        {
          "output_type": "execute_result",
          "data": {
            "text/plain": [
              "list"
            ]
          },
          "metadata": {},
          "execution_count": 94
        }
      ]
    },
    {
      "cell_type": "code",
      "source": [
        "agdf.collect()[0]"
      ],
      "metadata": {
        "colab": {
          "base_uri": "https://localhost:8080/"
        },
        "id": "uZSvA59a7DGK",
        "outputId": "09d7c8fc-52f2-498c-f6ba-175c1f80248e"
      },
      "execution_count": 96,
      "outputs": [
        {
          "output_type": "execute_result",
          "data": {
            "text/plain": [
              "Row(sum(Salary)=148000, avg(Age)=42.4)"
            ]
          },
          "metadata": {},
          "execution_count": 96
        }
      ]
    },
    {
      "cell_type": "code",
      "source": [
        "agdf.collect()[0]['sum(Salary)']\n",
        "#OR agdf.collect()[0][0]"
      ],
      "metadata": {
        "colab": {
          "base_uri": "https://localhost:8080/"
        },
        "id": "Q-9ZH0mY57-k",
        "outputId": "d9109d48-0651-4d44-b56a-c5cc787d65c6"
      },
      "execution_count": 87,
      "outputs": [
        {
          "output_type": "execute_result",
          "data": {
            "text/plain": [
              "148000"
            ]
          },
          "metadata": {},
          "execution_count": 87
        }
      ]
    },
    {
      "cell_type": "code",
      "source": [
        "agdf.collect()[0][1]"
      ],
      "metadata": {
        "colab": {
          "base_uri": "https://localhost:8080/"
        },
        "id": "EDo4yFiC8Kzm",
        "outputId": "76ffdc37-b8ad-4948-cbeb-5a50a1b7db51"
      },
      "execution_count": 98,
      "outputs": [
        {
          "output_type": "execute_result",
          "data": {
            "text/plain": [
              "42.4"
            ]
          },
          "metadata": {},
          "execution_count": 98
        }
      ]
    },
    {
      "cell_type": "code",
      "source": [],
      "metadata": {
        "id": "FOL0efw66EOK"
      },
      "execution_count": null,
      "outputs": []
    }
  ]
}